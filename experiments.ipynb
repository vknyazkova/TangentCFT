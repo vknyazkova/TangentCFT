{
 "cells": [
  {
   "metadata": {
    "ExecuteTime": {
     "end_time": "2024-06-05T18:04:15.958686Z",
     "start_time": "2024-06-05T18:04:14.161224Z"
    }
   },
   "cell_type": "code",
   "source": "!pip install rank_bm25",
   "id": "8972e9dff1277c57",
   "outputs": [
    {
     "name": "stderr",
     "output_type": "stream",
     "text": [
      "python(32268) MallocStackLogging: can't turn off malloc stack logging because it was not enabled.\n"
     ]
    },
    {
     "name": "stdout",
     "output_type": "stream",
     "text": [
      "Requirement already satisfied: rank_bm25 in ./venv/lib/python3.9/site-packages (0.2.2)\r\n",
      "Requirement already satisfied: numpy in ./venv/lib/python3.9/site-packages (from rank_bm25) (1.26.4)\r\n",
      "\r\n",
      "\u001B[1m[\u001B[0m\u001B[34;49mnotice\u001B[0m\u001B[1;39;49m]\u001B[0m\u001B[39;49m A new release of pip is available: \u001B[0m\u001B[31;49m23.2.1\u001B[0m\u001B[39;49m -> \u001B[0m\u001B[32;49m24.0\u001B[0m\r\n",
      "\u001B[1m[\u001B[0m\u001B[34;49mnotice\u001B[0m\u001B[1;39;49m]\u001B[0m\u001B[39;49m To update, run: \u001B[0m\u001B[32;49mpip install --upgrade pip\u001B[0m\r\n"
     ]
    }
   ],
   "execution_count": 127
  },
  {
   "metadata": {
    "ExecuteTime": {
     "end_time": "2024-06-05T18:04:16.017769Z",
     "start_time": "2024-06-05T18:04:15.962466Z"
    }
   },
   "cell_type": "code",
   "source": [
    "import json\n",
    "from typing import List, Dict, Callable, Union\n",
    "import re\n",
    "from functools import partial\n",
    "\n",
    "from rank_bm25 import BM25Okapi\n",
    "import numpy as np\n",
    "from sklearn.feature_extraction.text import TfidfVectorizer\n",
    "\n",
    "from tangent_cft.tangent_cft_parser import TangentCFTParser\n",
    "from tangent_cft.tangent_cft_back_end import TangentCFTBackEnd\n",
    "from tangent_cft.wiki_data_reader import WikiDataReader"
   ],
   "id": "initial_id",
   "outputs": [],
   "execution_count": 128
  },
  {
   "metadata": {},
   "cell_type": "markdown",
   "source": "# Dataset preprocessing",
   "id": "6d151355f5fda432"
  },
  {
   "metadata": {
    "ExecuteTime": {
     "end_time": "2024-06-05T13:19:34.443589Z",
     "start_time": "2024-06-05T13:19:34.421373Z"
    }
   },
   "cell_type": "code",
   "source": [
    "def parse_and_save(save_path: str, dataset_path: str, slt: bool = True, train: bool = True):\n",
    "    wiki_reader = WikiDataReader(read_slt=slt)\n",
    "    if train:\n",
    "        tuples = wiki_reader.get_collection(dataset_path, tuples=True)\n",
    "        formula_strings = wiki_reader.get_collection(dataset_path, tuples=False)\n",
    "    else:\n",
    "        tuples = wiki_reader.get_query(dataset_path, tuples=True)\n",
    "        formula_strings = wiki_reader.get_query(dataset_path, tuples=False)\n",
    "        \n",
    "    combined = {}\n",
    "    for k in tuples:\n",
    "        combined[k] = formula_strings[k] + '[NGRAMS]' + '[SEP]'.join(tuples[k])\n",
    "        \n",
    "    print('Saving to {}'.format(save_path))\n",
    "    with open(save_path, 'w') as f:\n",
    "        json.dump(combined, f, indent=2)"
   ],
   "id": "7facbae4ff7dd80",
   "outputs": [],
   "execution_count": 5
  },
  {
   "metadata": {
    "ExecuteTime": {
     "end_time": "2024-06-05T15:19:41.566042Z",
     "start_time": "2024-06-05T15:19:40.294439Z"
    }
   },
   "cell_type": "code",
   "source": [
    "parse_and_save(\n",
    "    save_path='ParsedDataset/train_opt.json', \n",
    "    dataset_path='../NTCIR-12_MathIR_Wikipedia_Corpus/MathTagArticles',\n",
    "    slt=False, train=True\n",
    ")\n",
    "parse_and_save(\n",
    "    save_path='ParsedDataset/train_slt.json', \n",
    "    dataset_path='../NTCIR-12_MathIR_Wikipedia_Corpus/MathTagArticles',\n",
    "    slt=True, train=True\n",
    ")\n",
    "parse_and_save(\n",
    "    save_path='ParsedDataset/test_opt.json', \n",
    "    dataset_path='TestQueries',\n",
    "    slt=False, train=False\n",
    ")\n",
    "parse_and_save(\n",
    "    save_path='ParsedDataset/test_slt.json', \n",
    "    dataset_path='TestQueries',\n",
    "    slt=True, train=False\n",
    ")"
   ],
   "id": "ae46f677589725fc",
   "outputs": [
    {
     "name": "stdout",
     "output_type": "stream",
     "text": [
      "Saving to ParsedDataset/test_opt.json\n",
      "Saving to ParsedDataset/test_slt.json\n"
     ]
    }
   ],
   "execution_count": 7
  },
  {
   "metadata": {},
   "cell_type": "markdown",
   "source": "## TF-IDF",
   "id": "70544bd92f33c07f"
  },
  {
   "metadata": {
    "ExecuteTime": {
     "end_time": "2024-06-05T16:11:31.362340Z",
     "start_time": "2024-06-05T16:11:26.671317Z"
    }
   },
   "cell_type": "code",
   "source": [
    "with open('ParsedDataset/train_opt.json', 'r') as f:\n",
    "    parsed_train_opt = json.load(f)\n",
    "with open('ParsedDataset/train_slt.json', 'r') as f:\n",
    "    parsed_train_slt = json.load(f)"
   ],
   "id": "d37cc6b3e15f3e38",
   "outputs": [],
   "execution_count": 14
  },
  {
   "metadata": {
    "ExecuteTime": {
     "end_time": "2024-06-05T16:11:32.195149Z",
     "start_time": "2024-06-05T16:11:32.186045Z"
    }
   },
   "cell_type": "code",
   "source": [
    "with open('ParsedDataset/test_opt.json', 'r') as f:\n",
    "    parsed_test_opt = json.load(f)\n",
    "with open('ParsedDataset/test_slt.json', 'r') as f:\n",
    "    parsed_test_slt = json.load(f)"
   ],
   "id": "baa6e8180b09f73",
   "outputs": [],
   "execution_count": 15
  },
  {
   "metadata": {
    "ExecuteTime": {
     "end_time": "2024-06-05T16:18:19.959544Z",
     "start_time": "2024-06-05T16:18:19.948670Z"
    }
   },
   "cell_type": "code",
   "source": [
    "class TFIDFSearch(TfidfVectorizer):\n",
    "    def __init__(self, corpus: Dict[str, str], analyzer: Callable[[str], List[str]]):\n",
    "        self.doc_idx = np.array(list(corpus.keys()))\n",
    "        self.vectorizer = TfidfVectorizer(analyzer=analyzer)\n",
    "        self.embeddings = self.vectorizer.fit_transform(corpus.values())\n",
    "      \n",
    "    def rank(self, query: str, top_n: int = 1000) -> Dict[str, List[Union[str, float]]]:\n",
    "        query_embedding = self.vectorizer.transform([query])\n",
    "        scores = query_embedding.dot(self.embeddings.T).toarray().flatten()\n",
    "        ranked_indices = np.argsort(scores)[::-1][:top_n] \n",
    "        result = {'ids': [], 'scores': []}\n",
    "        for idx in ranked_indices:\n",
    "            result['ids'].append(self.doc_idx[idx])\n",
    "            result['scores'].append(float(scores[idx]))\n",
    "        return result"
   ],
   "id": "f6d674b148d4ad84",
   "outputs": [],
   "execution_count": 22
  },
  {
   "metadata": {
    "ExecuteTime": {
     "end_time": "2024-06-05T16:17:36.570538Z",
     "start_time": "2024-06-05T16:17:36.559840Z"
    }
   },
   "cell_type": "code",
   "source": [
    "def search_queries(queries: Dict[str, str], searcher, top_n: int = 1000) -> Dict[str, Dict[str, float]]:\n",
    "    query_results = {}\n",
    "    for query_id, query in queries.items():\n",
    "        ranked = searcher.rank(query)\n",
    "        query_results[query_id] = dict(zip(ranked['ids'], ranked['scores']))\n",
    "    return query_results"
   ],
   "id": "51acd8c52a01755c",
   "outputs": [],
   "execution_count": 20
  },
  {
   "metadata": {
    "ExecuteTime": {
     "end_time": "2024-06-05T16:24:51.330927Z",
     "start_time": "2024-06-05T16:24:51.323024Z"
    }
   },
   "cell_type": "code",
   "source": [
    "def node_type_val_extractor(parsed_formula: str) -> List[str]:\n",
    "    formula_tree_string = parsed_formula.split('[NGRAMS]')[0]\n",
    "    return re.findall(r'(?<=\\[)(.*?)(?=[,\\]\\[])', formula_tree_string)"
   ],
   "id": "7d650cea9364e00b",
   "outputs": [],
   "execution_count": 26
  },
  {
   "metadata": {
    "ExecuteTime": {
     "end_time": "2024-06-05T16:33:52.167889Z",
     "start_time": "2024-06-05T16:33:52.161545Z"
    }
   },
   "cell_type": "code",
   "source": [
    "def node_vonly_extractor(parsed_formula: str) -> List[str]:\n",
    "    formula_tree_string = parsed_formula.split('[NGRAMS]')[0]\n",
    "    return re.findall(r'(?<=[\\[])\\+?!?.!(.*?)(?=[,\\]\\[])', formula_tree_string)"
   ],
   "id": "33026b488ea930b",
   "outputs": [],
   "execution_count": 49
  },
  {
   "metadata": {
    "ExecuteTime": {
     "end_time": "2024-06-05T17:04:35.548351Z",
     "start_time": "2024-06-05T17:04:35.541678Z"
    }
   },
   "cell_type": "code",
   "source": [
    "def node_ngram_extractor(parsed_formula: str) -> List[str]:\n",
    "    formula_tuple = parsed_formula.split('[NGRAMS]')[1].split('[SEP]')\n",
    "    result = []\n",
    "    for t in formula_tuple:\n",
    "        elements = t.split('\\t')\n",
    "        if elements[0] != '-' and elements[0] != '!' and elements[1] != '-' and elements[1] != '!':\n",
    "            result.append(' '.join(elements[:2]))\n",
    "    return result"
   ],
   "id": "2653102ca40b040a",
   "outputs": [],
   "execution_count": 86
  },
  {
   "metadata": {
    "ExecuteTime": {
     "end_time": "2024-06-05T17:46:52.782717Z",
     "start_time": "2024-06-05T17:46:52.761277Z"
    }
   },
   "cell_type": "code",
   "source": [
    "def formula_feature_extractor(\n",
    "        parsed_formula: str,\n",
    "        with_type: bool = True,\n",
    "        nodes: bool = True,\n",
    "        tuples: int = 0) -> List[str]:\n",
    "    formula_tree_string, formula_tuples = parsed_formula.split('[NGRAMS]')\n",
    "    features = []\n",
    "    if nodes:\n",
    "        if with_type:\n",
    "            features.extend(re.findall(r'(?<=\\[)(.*?)(?=[,\\]\\[])', formula_tree_string))\n",
    "        else:\n",
    "            features.extend(re.findall(r'(?<=[\\[])\\+?!?.!(.*?)(?=[,\\]\\[])', formula_tree_string))\n",
    "    if tuples:\n",
    "        for t in formula_tuples.split('[SEP]'):\n",
    "            features.append(' '.join(t.split('\\t')[:tuples]))\n",
    "    return features\n",
    "    "
   ],
   "id": "78fde7bdb304f82e",
   "outputs": [],
   "execution_count": 115
  },
  {
   "metadata": {
    "ExecuteTime": {
     "end_time": "2024-06-05T17:49:40.105043Z",
     "start_time": "2024-06-05T17:49:40.076395Z"
    }
   },
   "cell_type": "code",
   "source": "formula_feature_extractor(parsed_test_slt['18'], with_type=False, nodes=True, tuples=0)",
   "id": "8a10fc73872892ec",
   "outputs": [
    {
     "data": {
      "text/plain": [
       "['P',\n",
       " 'divide',\n",
       " 'p',\n",
       " '()1x1',\n",
       " 'N',\n",
       " 'n',\n",
       " 'x',\n",
       " '1',\n",
       " 'p',\n",
       " 'x',\n",
       " 'n',\n",
       " 'x',\n",
       " 'x',\n",
       " 'N',\n",
       " 'n',\n",
       " '()1x1',\n",
       " 'N',\n",
       " 'n',\n",
       " 'x',\n",
       " 'x',\n",
       " 'x',\n",
       " 'i']"
      ]
     },
     "execution_count": 118,
     "metadata": {},
     "output_type": "execute_result"
    }
   ],
   "execution_count": 118
  },
  {
   "metadata": {
    "ExecuteTime": {
     "end_time": "2024-06-05T17:53:29.833626Z",
     "start_time": "2024-06-05T17:53:22.221353Z"
    }
   },
   "cell_type": "code",
   "source": [
    "tfidf_searcher1 = TFIDFSearch(\n",
    "    parsed_train_opt, \n",
    "    partial(formula_feature_extractor, with_type=True, nodes=True, tuples=0))\n",
    "TangentCFTBackEnd.create_result_file(\n",
    "    search_queries(parsed_test_opt, tfidf_searcher1), \n",
    "    'Retrieval_Results/tfidf_opt_node_tv.tsv', run_id=4)"
   ],
   "id": "159af5651727cc3",
   "outputs": [],
   "execution_count": 119
  },
  {
   "metadata": {
    "ExecuteTime": {
     "end_time": "2024-06-05T17:53:38.143391Z",
     "start_time": "2024-06-05T17:53:31.548903Z"
    }
   },
   "cell_type": "code",
   "source": [
    "tfidf_searcher2 = TFIDFSearch(\n",
    "    parsed_train_opt, \n",
    "    partial(formula_feature_extractor, with_type=False, nodes=True, tuples=0))\n",
    "TangentCFTBackEnd.create_result_file(\n",
    "    search_queries(parsed_test_opt, tfidf_searcher2), \n",
    "    'Retrieval_Results/tfidf_opt_node_v.tsv', run_id=5)"
   ],
   "id": "4dc9d53a899bdc09",
   "outputs": [],
   "execution_count": 120
  },
  {
   "metadata": {
    "ExecuteTime": {
     "end_time": "2024-06-05T17:53:45.484795Z",
     "start_time": "2024-06-05T17:53:38.145187Z"
    }
   },
   "cell_type": "code",
   "source": [
    "tfidf_searcher3 = TFIDFSearch(\n",
    "    parsed_train_slt,\n",
    "    partial(formula_feature_extractor, with_type=True, nodes=True, tuples=0))\n",
    "TangentCFTBackEnd.create_result_file(\n",
    "    search_queries(parsed_test_slt, tfidf_searcher3), \n",
    "    'Retrieval_Results/tfidf_slt_node_tv.tsv', run_id=6)"
   ],
   "id": "bb109b4e874c8c5",
   "outputs": [],
   "execution_count": 121
  },
  {
   "metadata": {
    "ExecuteTime": {
     "end_time": "2024-06-05T17:53:49.932037Z",
     "start_time": "2024-06-05T17:53:45.486857Z"
    }
   },
   "cell_type": "code",
   "source": [
    "tfidf_searcher4 = TFIDFSearch(\n",
    "    parsed_train_slt, \n",
    "    partial(formula_feature_extractor, with_type=False, nodes=True, tuples=0))\n",
    "TangentCFTBackEnd.create_result_file(\n",
    "    search_queries(parsed_test_slt, tfidf_searcher4), \n",
    "    'Retrieval_Results/tfidf_slt_node_v.tsv', run_id=7)"
   ],
   "id": "76be7a6ac3186aac",
   "outputs": [],
   "execution_count": 122
  },
  {
   "metadata": {
    "ExecuteTime": {
     "end_time": "2024-06-05T17:55:40.196439Z",
     "start_time": "2024-06-05T17:55:26.128508Z"
    }
   },
   "cell_type": "code",
   "source": [
    "tfidf_searcher5 = TFIDFSearch(\n",
    "    parsed_train_opt, \n",
    "    partial(formula_feature_extractor, with_type=True, nodes=False, tuples=2))\n",
    "TangentCFTBackEnd.create_result_file(\n",
    "    search_queries(parsed_test_opt, tfidf_searcher5), \n",
    "    'Retrieval_Results/tfidf_opt_ngrams_tv.tsv', run_id=8)"
   ],
   "id": "8a9229d236f3ffbc",
   "outputs": [],
   "execution_count": 123
  },
  {
   "metadata": {
    "ExecuteTime": {
     "end_time": "2024-06-05T17:56:00.187772Z",
     "start_time": "2024-06-05T17:55:51.092274Z"
    }
   },
   "cell_type": "code",
   "source": [
    "tfidf_searcher6 = TFIDFSearch(\n",
    "    parsed_train_slt, \n",
    "    partial(formula_feature_extractor, with_type=True, nodes=False, tuples=2))\n",
    "TangentCFTBackEnd.create_result_file(\n",
    "    search_queries(parsed_test_slt, tfidf_searcher6), \n",
    "    'Retrieval_Results/tfidf_slt_ngrams_tv.tsv', run_id=9)"
   ],
   "id": "76c47b1a7831a237",
   "outputs": [],
   "execution_count": 124
  },
  {
   "metadata": {
    "ExecuteTime": {
     "end_time": "2024-06-05T17:57:28.257575Z",
     "start_time": "2024-06-05T17:57:09.370835Z"
    }
   },
   "cell_type": "code",
   "source": [
    "tfidf_searcher7 = TFIDFSearch(\n",
    "    parsed_train_opt, \n",
    "    partial(formula_feature_extractor, with_type=True, nodes=True, tuples=2))\n",
    "TangentCFTBackEnd.create_result_file(\n",
    "    search_queries(parsed_test_opt, tfidf_searcher7), \n",
    "    'Retrieval_Results/tfidf_opt_nodes_ngrams_tv.tsv', run_id=10)"
   ],
   "id": "48f9f0171307922d",
   "outputs": [],
   "execution_count": 125
  },
  {
   "metadata": {
    "ExecuteTime": {
     "end_time": "2024-06-05T17:57:51.676050Z",
     "start_time": "2024-06-05T17:57:38.693613Z"
    }
   },
   "cell_type": "code",
   "source": [
    "tfidf_searcher8 = TFIDFSearch(\n",
    "    parsed_train_slt, \n",
    "    partial(formula_feature_extractor, with_type=True, nodes=True, tuples=2))\n",
    "TangentCFTBackEnd.create_result_file(\n",
    "    search_queries(parsed_test_slt, tfidf_searcher8), \n",
    "    'Retrieval_Results/tfidf_slt_nodes_ngrams_tv.tsv', run_id=11)"
   ],
   "id": "8df53840894e23c0",
   "outputs": [],
   "execution_count": 126
  },
  {
   "metadata": {},
   "cell_type": "markdown",
   "source": "# BM25",
   "id": "a069247100a4142d"
  },
  {
   "metadata": {
    "ExecuteTime": {
     "end_time": "2024-06-05T18:05:36.793496Z",
     "start_time": "2024-06-05T18:05:36.782574Z"
    }
   },
   "cell_type": "code",
   "source": [
    "class BM25Search:\n",
    "    def __init__(self, corpus: Dict[str, str], analyzer: Callable[[str], List[str]]):\n",
    "        self.doc_idx = np.array(list(corpus.keys()))\n",
    "        self.analyzer = analyzer\n",
    "        parsed_corpus = [self.analyzer(ex) for ex in corpus.values()]\n",
    "        self._bm25 = BM25Okapi(parsed_corpus)\n",
    "    \n",
    "    def rank(self, query: str, top_n: int = 1000) -> Dict[str, List[Union[str, float]]]:\n",
    "        tokenized_query = self.analyzer(query)\n",
    "        scores = self._bm25.get_scores(tokenized_query)\n",
    "        top_n = np.argsort(scores)[::-1][:top_n]\n",
    "        return {\n",
    "          'ids': self.doc_idx[top_n],\n",
    "          'scores': scores[top_n]\n",
    "        }"
   ],
   "id": "ed2f12d4583fde9d",
   "outputs": [],
   "execution_count": 130
  },
  {
   "metadata": {
    "ExecuteTime": {
     "end_time": "2024-06-05T18:06:44.062505Z",
     "start_time": "2024-06-05T18:05:37.516720Z"
    }
   },
   "cell_type": "code",
   "source": [
    "bm25_searcher1 = BM25Search(\n",
    "    parsed_train_opt, \n",
    "    partial(formula_feature_extractor, with_type=True, nodes=True, tuples=0))\n",
    "TangentCFTBackEnd.create_result_file(\n",
    "    search_queries(parsed_test_opt, bm25_searcher1), \n",
    "    'Retrieval_Results/bm25_opt_node_tv.tsv', run_id=12)"
   ],
   "id": "620f9a002dce9ff7",
   "outputs": [],
   "execution_count": 131
  },
  {
   "metadata": {
    "ExecuteTime": {
     "end_time": "2024-06-05T18:08:44.883038Z",
     "start_time": "2024-06-05T18:07:49.077427Z"
    }
   },
   "cell_type": "code",
   "source": [
    "bm25_searcher2 = BM25Search(\n",
    "    parsed_train_opt, \n",
    "    partial(formula_feature_extractor, with_type=False, nodes=True, tuples=0))\n",
    "TangentCFTBackEnd.create_result_file(\n",
    "    search_queries(parsed_test_opt, bm25_searcher2), \n",
    "    'Retrieval_Results/bm25_opt_node_v.tsv', run_id=13)"
   ],
   "id": "1773bffeb9887b9f",
   "outputs": [],
   "execution_count": 132
  },
  {
   "metadata": {
    "ExecuteTime": {
     "end_time": "2024-06-05T18:12:39.770892Z",
     "start_time": "2024-06-05T18:09:13.390172Z"
    }
   },
   "cell_type": "code",
   "source": [
    "bm25_searcher3 = BM25Search(\n",
    "    parsed_train_opt, \n",
    "    partial(formula_feature_extractor, with_type=True, nodes=False, tuples=2))\n",
    "TangentCFTBackEnd.create_result_file(\n",
    "    search_queries(parsed_test_opt, bm25_searcher3), \n",
    "    'Retrieval_Results/bm25_opt_ngrams_tv.tsv', run_id=14)"
   ],
   "id": "1fd2e23b4bf456ed",
   "outputs": [],
   "execution_count": 133
  },
  {
   "metadata": {
    "ExecuteTime": {
     "end_time": "2024-06-05T18:21:19.681261Z",
     "start_time": "2024-06-05T18:12:39.780629Z"
    }
   },
   "cell_type": "code",
   "source": [
    "bm25_searcher4 = BM25Search(\n",
    "    parsed_train_opt, \n",
    "    partial(formula_feature_extractor, with_type=True, nodes=True, tuples=2))\n",
    "TangentCFTBackEnd.create_result_file(\n",
    "    search_queries(parsed_test_opt, bm25_searcher4), \n",
    "    'Retrieval_Results/bm25_opt_nodes_ngrams_tv.tsv', run_id=15)"
   ],
   "id": "207dd6687327b758",
   "outputs": [],
   "execution_count": 134
  },
  {
   "metadata": {
    "ExecuteTime": {
     "end_time": "2024-06-05T18:22:43.773922Z",
     "start_time": "2024-06-05T18:21:19.703170Z"
    }
   },
   "cell_type": "code",
   "source": [
    "bm25_searcher5 = BM25Search(\n",
    "    parsed_train_slt, \n",
    "    partial(formula_feature_extractor, with_type=True, nodes=True, tuples=0))\n",
    "TangentCFTBackEnd.create_result_file(\n",
    "    search_queries(parsed_test_slt, bm25_searcher5), \n",
    "    'Retrieval_Results/bm25_slt_node_tv.tsv', run_id=16)"
   ],
   "id": "4e644af467789a26",
   "outputs": [],
   "execution_count": 135
  },
  {
   "metadata": {
    "ExecuteTime": {
     "end_time": "2024-06-05T18:23:20.737267Z",
     "start_time": "2024-06-05T18:22:43.785275Z"
    }
   },
   "cell_type": "code",
   "source": [
    "bm25_searcher6 = BM25Search(\n",
    "    parsed_train_slt, \n",
    "    partial(formula_feature_extractor, with_type=False, nodes=True, tuples=0))\n",
    "TangentCFTBackEnd.create_result_file(\n",
    "    search_queries(parsed_test_slt, bm25_searcher6), \n",
    "    'Retrieval_Results/bm25_slt_node_v.tsv', run_id=17)"
   ],
   "id": "3aaf4f4ed8225c24",
   "outputs": [],
   "execution_count": 136
  },
  {
   "metadata": {
    "ExecuteTime": {
     "end_time": "2024-06-05T18:25:17.769088Z",
     "start_time": "2024-06-05T18:23:20.742552Z"
    }
   },
   "cell_type": "code",
   "source": [
    "bm25_searcher7 = BM25Search(\n",
    "    parsed_train_slt, \n",
    "    partial(formula_feature_extractor, with_type=True, nodes=False, tuples=2))\n",
    "TangentCFTBackEnd.create_result_file(\n",
    "    search_queries(parsed_test_slt, bm25_searcher7), \n",
    "    'Retrieval_Results/bm25_slt_ngrams_tv.tsv', run_id=18)"
   ],
   "id": "ebdd6a9967bcfd39",
   "outputs": [],
   "execution_count": 137
  },
  {
   "metadata": {
    "ExecuteTime": {
     "end_time": "2024-06-05T18:28:46.509162Z",
     "start_time": "2024-06-05T18:25:17.776254Z"
    }
   },
   "cell_type": "code",
   "source": [
    "bm25_searcher8 = BM25Search(\n",
    "    parsed_train_slt, \n",
    "    partial(formula_feature_extractor, with_type=True, nodes=True, tuples=2))\n",
    "TangentCFTBackEnd.create_result_file(\n",
    "    search_queries(parsed_test_slt, bm25_searcher8), \n",
    "    'Retrieval_Results/bm25_slt_nodes_ngrams_tv.tsv', run_id=19)"
   ],
   "id": "76400f77d0f15b77",
   "outputs": [],
   "execution_count": 138
  }
 ],
 "metadata": {
  "kernelspec": {
   "display_name": "Python 3",
   "language": "python",
   "name": "python3"
  },
  "language_info": {
   "codemirror_mode": {
    "name": "ipython",
    "version": 2
   },
   "file_extension": ".py",
   "mimetype": "text/x-python",
   "name": "python",
   "nbconvert_exporter": "python",
   "pygments_lexer": "ipython2",
   "version": "2.7.6"
  }
 },
 "nbformat": 4,
 "nbformat_minor": 5
}
